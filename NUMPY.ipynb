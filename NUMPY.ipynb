{
  "nbformat": 4,
  "nbformat_minor": 0,
  "metadata": {
    "colab": {
      "provenance": [],
      "authorship_tag": "ABX9TyNHex638ICYLiMu35ub4BtJ",
      "include_colab_link": true
    },
    "kernelspec": {
      "name": "python3",
      "display_name": "Python 3"
    },
    "language_info": {
      "name": "python"
    }
  },
  "cells": [
    {
      "cell_type": "markdown",
      "metadata": {
        "id": "view-in-github",
        "colab_type": "text"
      },
      "source": [
        "<a href=\"https://colab.research.google.com/github/aneelkumar18/NUMPY-/blob/main/NUMPY.ipynb\" target=\"_parent\"><img src=\"https://colab.research.google.com/assets/colab-badge.svg\" alt=\"Open In Colab\"/></a>"
      ]
    },
    {
      "cell_type": "markdown",
      "source": [
        "1. **Getting Familiar with NumPy**\n",
        "\n",
        "   First, let’s cover the basics of NumPy, including creating arrays, performing basic operations, and understanding array properties."
      ],
      "metadata": {
        "id": "-m_TUw5ux_Lx"
      }
    },
    {
      "cell_type": "code",
      "source": [
        "#creating arrays\n",
        "import numpy as np\n",
        "\n",
        "# 1D array\n",
        "arr1d = np.array([1, 2, 3, 4, 5])\n",
        "\n",
        "# 2D array\n",
        "arr2d = np.array([[1, 2, 3], [4, 5, 6]])\n",
        "\n",
        "# 3D array\n",
        "arr3d = np.array([[[1, 2], [3, 4]], [[5, 6], [7, 8]]])\n",
        "\n",
        "print(\"1D Array:\\n\", arr1d)\n",
        "print(\"2D Array:\\n\", arr2d)\n",
        "print(\"3D Array:\\n\", arr3d)"
      ],
      "metadata": {
        "colab": {
          "base_uri": "https://localhost:8080/",
          "height": 0
        },
        "id": "R_cMez1hyHnd",
        "outputId": "0eb7bfd2-cdd1-42fa-ed5e-55adb67a12a5"
      },
      "execution_count": 2,
      "outputs": [
        {
          "output_type": "stream",
          "name": "stdout",
          "text": [
            "1D Array:\n",
            " [1 2 3 4 5]\n",
            "2D Array:\n",
            " [[1 2 3]\n",
            " [4 5 6]]\n",
            "3D Array:\n",
            " [[[1 2]\n",
            "  [3 4]]\n",
            "\n",
            " [[5 6]\n",
            "  [7 8]]]\n"
          ]
        }
      ]
    },
    {
      "cell_type": "code",
      "source": [
        "#BASIC OPERATIONS\n",
        "\n",
        "import numpy as np\n",
        "\n",
        "# 1D array\n",
        "arr1d = np.array([1, 2, 3, 4, 5])\n",
        "\n",
        "# Element-wise addition\n",
        "arr_sum = arr1d + 5\n",
        "\n",
        "# Element-wise multiplication\n",
        "arr_prod = arr1d * 2\n",
        "\n",
        "print(\"Element-wise Addition:\\n\", arr_sum)\n",
        "print(\"Element-wise Multiplication:\\n\", arr_prod)"
      ],
      "metadata": {
        "colab": {
          "base_uri": "https://localhost:8080/",
          "height": 0
        },
        "id": "kjGE9j-9yjUP",
        "outputId": "c2d28297-5d4b-476b-d5f4-03612bc7ed1e"
      },
      "execution_count": 3,
      "outputs": [
        {
          "output_type": "stream",
          "name": "stdout",
          "text": [
            "Element-wise Addition:\n",
            " [ 6  7  8  9 10]\n",
            "Element-wise Multiplication:\n",
            " [ 2  4  6  8 10]\n"
          ]
        }
      ]
    },
    {
      "cell_type": "code",
      "source": [
        "#ARRAY PROPERTIES\n",
        "\n",
        "import numpy as np\n",
        "arr1d = np.array([1, 2, 3, 4, 5])\n",
        "arr2d = np.array([[1, 2, 3], [4, 5, 6]])\n",
        "arr3d = np.array([[[1, 2], [3, 4]], [[5, 6], [7, 8]]])\n",
        "\n",
        "#shape of arr2d\n",
        "print(\"Shape of arr2d:\", arr2d.shape)\n",
        "\n",
        "#data type of arr1d\n",
        "print(\"Data type of arr1d:\", arr1d.dtype)\n",
        "\n",
        "#dimension of arr3d\n",
        "print(\"Number of dimensions in arr3d:\", arr3d.ndim)\n"
      ],
      "metadata": {
        "colab": {
          "base_uri": "https://localhost:8080/",
          "height": 0
        },
        "id": "sq9HZcUWy5Qe",
        "outputId": "1baa2932-7c76-425a-b230-9b874f6f1d5e"
      },
      "execution_count": 4,
      "outputs": [
        {
          "output_type": "stream",
          "name": "stdout",
          "text": [
            "Shape of arr2d: (2, 3)\n",
            "Data type of arr1d: int64\n",
            "Number of dimensions in arr3d: 3\n"
          ]
        }
      ]
    },
    {
      "cell_type": "markdown",
      "source": [
        "**2. Data Manipulation**\n",
        "\n",
        "   Now let’s write a Python program to demonstrate data manipulation with NumPy, including array creation, indexing, slicing, reshaping, and mathematical operations."
      ],
      "metadata": {
        "id": "vw6Utdy_0Bp_"
      }
    },
    {
      "cell_type": "code",
      "source": [
        "import numpy as np\n",
        "\n",
        "# Creating an array\n",
        "data = np.array([[10, 20, 30], [40, 50, 60], [70, 80, 90]])\n",
        "\n",
        "# Indexing\n",
        "element = data[1, 2]\n",
        "print(\"Element at [1, 2]:\", element)\n",
        "\n",
        "# Slicing\n",
        "sub_array = data[0:2, 1:3]\n",
        "print(\"Sliced Array:\\n\", sub_array)\n",
        "\n",
        "# Reshaping\n",
        "reshaped_data = data.reshape((1, 9))\n",
        "print(\"Reshaped Data:\\n\", reshaped_data)\n",
        "\n",
        "# Mathematical Operations\n",
        "mean_value = np.mean(data)\n",
        "sum_value = np.sum(data)\n",
        "print(\"Mean Value:\", mean_value)\n",
        "print(\"Sum Value:\", sum_value)\n"
      ],
      "metadata": {
        "colab": {
          "base_uri": "https://localhost:8080/",
          "height": 0
        },
        "id": "CAMcfwwF0IOx",
        "outputId": "a2a6d57a-b1f9-4b1d-e506-102c42a861d4"
      },
      "execution_count": 5,
      "outputs": [
        {
          "output_type": "stream",
          "name": "stdout",
          "text": [
            "Element at [1, 2]: 60\n",
            "Sliced Array:\n",
            " [[20 30]\n",
            " [50 60]]\n",
            "Reshaped Data:\n",
            " [[10 20 30 40 50 60 70 80 90]]\n",
            "Mean Value: 50.0\n",
            "Sum Value: 450\n"
          ]
        }
      ]
    },
    {
      "cell_type": "markdown",
      "source": [
        "**3. Data Aggregation**\n",
        "\n",
        "   Data aggregation is a fundamental aspect of data analysis that involves summarizing or grouping data to derive meaningful insights. In NumPy, data aggregation functions allow you to compute summary statistics, perform group operations, and analyze data in various ways. Below"
      ],
      "metadata": {
        "id": "sLa_q2ow0Xxk"
      }
    },
    {
      "cell_type": "code",
      "source": [
        "import numpy as np\n",
        "\n",
        "# Sample data\n",
        "data = np.array([15, 22, 35, 40, 55, 60, 72, 85, 90])\n",
        "\n",
        "# statistical methods\n",
        "mean = np.mean(data)\n",
        "median = np.median(data)\n",
        "std_dev = np.std(data)\n",
        "total_sum = np.sum(data)\n",
        "\n",
        "print(\"Mean:\", mean)\n",
        "print(\"Median:\", median)\n",
        "print(\"Standard Deviation:\", std_dev)\n",
        "print(\"Sum:\", total_sum)\n",
        "\n",
        "# Grouping and aggregation\n",
        "data_2d = np.array([[15, 22, 35], [40, 55, 60], [72, 85, 90]])\n",
        "mean_per_row = np.mean(data_2d, axis=1)\n",
        "print(\"Mean per row:\\n\", mean_per_row)\n",
        "\n",
        "# Compute percentiles\n",
        "percentiles = np.percentile(data, [25, 50, 75])\n",
        "print(\"25th, 50th, and 75th Percentiles:\", percentiles)\n"
      ],
      "metadata": {
        "colab": {
          "base_uri": "https://localhost:8080/",
          "height": 0
        },
        "id": "Lg2Ovgna0mNK",
        "outputId": "cc0e0047-2fc2-493d-8b39-69a238daa504"
      },
      "execution_count": 6,
      "outputs": [
        {
          "output_type": "stream",
          "name": "stdout",
          "text": [
            "Mean: 52.666666666666664\n",
            "Median: 55.0\n",
            "Standard Deviation: 25.174943451332275\n",
            "Sum: 474\n",
            "Mean per row:\n",
            " [24.         51.66666667 82.33333333]\n",
            "25th, 50th, and 75th Percentiles: [35. 55. 72.]\n"
          ]
        }
      ]
    },
    {
      "cell_type": "markdown",
      "source": [
        "**4. Data Analysis**\n",
        "\n",
        "   Perform data analysis using NumPy to find correlations, covariance and calculate percentiles"
      ],
      "metadata": {
        "id": "ZPRXH6Ps204t"
      }
    },
    {
      "cell_type": "code",
      "source": [
        "import numpy as np\n",
        "\n",
        "# Sample data\n",
        "data = np.array([10, 20, 30, 40, 50, 60, 70, 80, 90])\n",
        "\n",
        "# Correlation coefficient\n",
        "data2 = np.array([9, 18, 29, 38, 51, 59, 68, 77, 88])\n",
        "correlation = np.corrcoef(data, data2)[0, 1]\n",
        "print(\"Correlation Coefficient:\", correlation)\n",
        "\n",
        "# Percentiles\n",
        "percentiles = np.percentile(data, [25, 50, 75])\n",
        "print(\"25th, 50th, and 75th Percentiles:\", percentiles)\n"
      ],
      "metadata": {
        "colab": {
          "base_uri": "https://localhost:8080/",
          "height": 0
        },
        "id": "xA4CEQUa3CPV",
        "outputId": "46255e1a-f157-4bb7-c6b4-8628ee1a0b7f"
      },
      "execution_count": 9,
      "outputs": [
        {
          "output_type": "stream",
          "name": "stdout",
          "text": [
            "Correlation Coefficient: 0.9992171972185024\n",
            "25th, 50th, and 75th Percentiles: [30. 50. 70.]\n"
          ]
        }
      ]
    },
    {
      "cell_type": "markdown",
      "source": [
        "**5. Application in Data Science**\n",
        "\n",
        "**Why NumPy is Useful:**\n",
        "\n",
        "**Efficiency**: NumPy provides fast operations on large datasets due to its implementation in C and optimized mathematical functions.\n",
        "\n",
        "**Convenience:** It offers a wide range of mathematical functions and array manipulation techniques that simplify complex computations.\n",
        "\n",
        "**Integration**: NumPy arrays are compatible with many other scientific libraries in Python, such as SciPy, Pandas, and scikit-learn.\n",
        "\n",
        "**Real-World Examples**:\n",
        "\n",
        "**Machine Learning:** NumPy is used for handling large datasets, feature scaling, and implementing algorithms efficiently.\n",
        "\n",
        "**Financial Analysis:** In finance, NumPy helps in risk analysis, portfolio management, and financial modeling by handling large numerical datasets.\n",
        "\n",
        "**Scientific Research:** Researchers use NumPy for data analysis, simulations, and solving mathematical problems in fields like physics, biology, and engineering."
      ],
      "metadata": {
        "id": "J5vMKD6g32ly"
      }
    }
  ]
}